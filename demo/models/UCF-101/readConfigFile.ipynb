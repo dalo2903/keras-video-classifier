{
 "cells": [
  {
   "cell_type": "code",
   "execution_count": 3,
   "metadata": {},
   "outputs": [],
   "source": [
    "import numpy as np\n",
    "config=np.load('vgg16-lstm-hi-dim-config.npy')"
   ]
  },
  {
   "cell_type": "code",
   "execution_count": 4,
   "metadata": {},
   "outputs": [
    {
     "name": "stdout",
     "output_type": "stream",
     "text": [
      "{'nb_classes': 101, 'vgg16_include_top': False, 'labels': {'Rafting': 78, 'Mixing': 90, 'Biking': 61, 'Drumming': 53, 'TennisSwing': 49, 'Skiing': 97, 'PlayingFlute': 48, 'JumpingJack': 93, 'IceDancing': 0, 'BoxingSpeedBag': 64, 'ApplyLipstick': 60, 'SumoWrestling': 33, 'BoxingPunchingBag': 34, 'PoleVault': 23, 'GolfSwing': 81, 'Haircut': 1, 'MoppingFloor': 4, 'MilitaryParade': 25, 'WritingOnBoard': 17, 'CuttingInKitchen': 69, 'Rowing': 2, 'PlayingDaf': 31, 'FloorGymnastics': 91, 'JumpRope': 24, 'WallPushups': 41, 'Diving': 56, 'TaiChi': 28, 'BabyCrawling': 54, 'Hammering': 83, 'HulaHoop': 80, 'HandstandWalking': 59, 'VolleyballSpiking': 50, 'Shotput': 89, 'Bowling': 63, 'PizzaTossing': 84, 'PushUps': 11, 'PlayingPiano': 98, 'BrushingTeeth': 55, 'PlayingDhol': 100, 'HorseRace': 57, 'TrampolineJumping': 70, 'LongJump': 30, 'BreastStroke': 58, 'PlayingTabla': 15, 'Lunges': 38, 'HeadMassage': 92, 'RopeClimbing': 46, 'Archery': 37, 'PullUps': 16, 'Nunchucks': 5, 'CliffDiving': 43, 'BenchPress': 13, 'Swing': 40, 'ShavingBeard': 12, 'FieldHockeyPenalty': 8, 'PlayingViolin': 29, 'BalanceBeam': 10, 'Knitting': 6, 'CleanAndJerk': 85, 'PlayingSitar': 27, 'BasketballDunk': 7, 'PlayingCello': 95, 'BlowDryHair': 32, 'Punch': 67, 'HighJump': 18, 'SkateBoarding': 3, 'YoYo': 44, 'HandstandPushups': 51, 'PommelHorse': 20, 'Kayaking': 73, 'SoccerPenalty': 22, 'Billiards': 9, 'SkyDiving': 96, 'CricketShot': 68, 'TableTennisShot': 71, 'RockClimbingIndoor': 77, 'FrisbeeCatch': 94, 'JavelinThrow': 39, 'BodyWeightSquats': 36, 'Basketball': 26, 'ParallelBars': 21, 'Skijet': 88, 'WalkingWithDog': 74, 'SalsaSpin': 72, 'FrontCrawl': 14, 'BlowingCandles': 82, 'SoccerJuggling': 42, 'HorseRiding': 52, 'BaseballPitch': 65, 'Surfing': 19, 'Typing': 75, 'UnevenBars': 62, 'HammerThrow': 79, 'JugglingBalls': 35, 'BandMarching': 45, 'Fencing': 47, 'StillRings': 86, 'ApplyEyeMakeup': 87, 'PlayingGuitar': 76, 'CricketBowling': 99, 'ThrowDiscus': 66}, 'num_input_tokens': 25088, 'expected_frames': 14}\n"
     ]
    }
   ],
   "source": [
    "print(config)"
   ]
  },
  {
   "cell_type": "code",
   "execution_count": null,
   "metadata": {},
   "outputs": [],
   "source": []
  },
  {
   "cell_type": "code",
   "execution_count": null,
   "metadata": {},
   "outputs": [],
   "source": []
  },
  {
   "cell_type": "code",
   "execution_count": null,
   "metadata": {},
   "outputs": [],
   "source": []
  }
 ],
 "metadata": {
  "kernelspec": {
   "display_name": "Python 3",
   "language": "python",
   "name": "python3"
  },
  "language_info": {
   "codemirror_mode": {
    "name": "ipython",
    "version": 3
   },
   "file_extension": ".py",
   "mimetype": "text/x-python",
   "name": "python",
   "nbconvert_exporter": "python",
   "pygments_lexer": "ipython3",
   "version": "3.5.6"
  }
 },
 "nbformat": 4,
 "nbformat_minor": 2
}
